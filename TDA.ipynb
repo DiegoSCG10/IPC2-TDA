{
  "nbformat": 4,
  "nbformat_minor": 0,
  "metadata": {
    "colab": {
      "name": "TDA.ipynb",
      "provenance": [],
      "collapsed_sections": [],
      "authorship_tag": "ABX9TyNPyxL7gHcHNus32AYFXM7G",
      "include_colab_link": true
    },
    "kernelspec": {
      "name": "python3",
      "display_name": "Python 3"
    }
  },
  "cells": [
    {
      "cell_type": "markdown",
      "metadata": {
        "id": "view-in-github",
        "colab_type": "text"
      },
      "source": [
        "<a href=\"https://colab.research.google.com/github/DiegoSCG10/IPC2-TDA/blob/main/TDA.ipynb\" target=\"_parent\"><img src=\"https://colab.research.google.com/assets/colab-badge.svg\" alt=\"Open In Colab\"/></a>"
      ]
    },
    {
      "cell_type": "markdown",
      "metadata": {
        "id": "hTmSXkYFc0Pa"
      },
      "source": [
        "**Ejercicio de Listas Enlazadas**"
      ]
    },
    {
      "cell_type": "code",
      "metadata": {
        "id": "wMaeUHMNd1wU"
      },
      "source": [
        "class cliente:\r\n",
        "  def __init__(self, nombre, no_habitacion):\r\n",
        "    self.nombre = nombre\r\n",
        "    self.no_habitacion = no_habitacion"
      ],
      "execution_count": null,
      "outputs": []
    },
    {
      "cell_type": "code",
      "metadata": {
        "id": "6aRm7ybZWB3u"
      },
      "source": [
        "class node:\r\n",
        "  def __init__(self, cliente = None, next = None):\r\n",
        "    self.cliente = cliente\r\n",
        "    self.next = next"
      ],
      "execution_count": null,
      "outputs": []
    },
    {
      "cell_type": "code",
      "metadata": {
        "id": "qFDvuMW7YTA0"
      },
      "source": [
        "class linked_list:\r\n",
        "  def __init__(self):\r\n",
        "    self.head = None  \r\n",
        "\r\n",
        "  def insertar(self, cliente):\r\n",
        "     if not self.head:\r\n",
        "       self.head = node(cliente=cliente)\r\n",
        "       return\r\n",
        "     current = self.head\r\n",
        "     while current.next:\r\n",
        "       current = current.next\r\n",
        "     current.next = node(cliente = cliente)  \r\n",
        "\r\n",
        "  def imprimir(self):\r\n",
        "     node = self.head\r\n",
        "     while node!= None:\r\n",
        "       print(node.cliente.nombre, end=\"=>\")\r\n",
        "       node = node.next  \r\n",
        "\r\n",
        "  def eliminar(self, no_habitacion):\r\n",
        "     current = self.head\r\n",
        "     previous = None\r\n",
        "     while current and current.cliente.no_habitacion != no_habitacion:\r\n",
        "       previous = current\r\n",
        "       current = current.next\r\n",
        "\r\n",
        "     if previous is None:\r\n",
        "         self.head = current.next\r\n",
        "     elif current:\r\n",
        "         previous.next = current.next \r\n",
        "         current.next = None    "
      ],
      "execution_count": null,
      "outputs": []
    },
    {
      "cell_type": "code",
      "metadata": {
        "id": "ChadZJ-3dKhI"
      },
      "source": [
        "c1 = cliente(\"Nombre 1\", 100)\r\n",
        "c2 = cliente(\"Nombre 2\", 101)\r\n",
        "c3 = cliente(\"Nombre 3\", 102)\r\n",
        "c4 = cliente(\"Nombre 4\", 103)"
      ],
      "execution_count": null,
      "outputs": []
    },
    {
      "cell_type": "code",
      "metadata": {
        "id": "t8C9HApEeAzt"
      },
      "source": [
        "lista = linked_list()\r\n",
        "lista.insertar(c1)\r\n",
        "lista.insertar(c2)\r\n",
        "lista.insertar(c3)\r\n",
        "lista.insertar(c4)"
      ],
      "execution_count": null,
      "outputs": []
    },
    {
      "cell_type": "code",
      "metadata": {
        "colab": {
          "base_uri": "https://localhost:8080/"
        },
        "id": "XmR0t5deeyXH",
        "outputId": "54d3c9e7-8714-4476-f4dd-c5091db4740c"
      },
      "source": [
        "lista.imprimir()"
      ],
      "execution_count": null,
      "outputs": [
        {
          "output_type": "stream",
          "text": [
            "Nombre 1=>Nombre 2=>Nombre 3=>Nombre 4=>"
          ],
          "name": "stdout"
        }
      ]
    },
    {
      "cell_type": "code",
      "metadata": {
        "id": "zvV93EPbkTeW"
      },
      "source": [
        "lista.eliminar(101)"
      ],
      "execution_count": null,
      "outputs": []
    },
    {
      "cell_type": "code",
      "metadata": {
        "colab": {
          "base_uri": "https://localhost:8080/"
        },
        "id": "Ihviy5j1k2RD",
        "outputId": "2d9a6b84-026a-4eaf-cdbb-6303b4ada871"
      },
      "source": [
        "lista.imprimir()"
      ],
      "execution_count": null,
      "outputs": [
        {
          "output_type": "stream",
          "text": [
            "Nombre 1=>Nombre 2=>"
          ],
          "name": "stdout"
        }
      ]
    },
    {
      "cell_type": "markdown",
      "metadata": {
        "id": "5gNRVwvHoqeV"
      },
      "source": [
        "**Ejemplo de Listas Circulares**\r\n"
      ]
    },
    {
      "cell_type": "code",
      "metadata": {
        "id": "HFH1e_YwozIm"
      },
      "source": [
        "class linked_list_circular:\r\n",
        "  def __init__(self, head = None):\r\n",
        "    self.head = head\r\n",
        "    self.size = 0\r\n",
        "\r\n",
        "  def insertar(self, cliente):\r\n",
        "    if self.size == 0:\r\n",
        "      self.head = node(cliente = cliente)\r\n",
        "      self.head.next = self.head\r\n",
        "    else:\r\n",
        "      new_node = node(cliente = cliente, next=self.head.next)\r\n",
        "      self.head.next = new_node\r\n",
        "    self.size +=1    \r\n",
        "\r\n",
        "  def imprimir (self):\r\n",
        "    if self.head is None:\r\n",
        "      return\r\n",
        "    node = self.head\r\n",
        "    print(node.cliente.nombre, end = \" => \")\r\n",
        "    while node.next!=self.head:\r\n",
        "      node = node.next  \r\n",
        "      print(node.cliente.nombre, end = \" => \")\r\n",
        "\r\n",
        "  def eliminar (self, no_habitacion):\r\n",
        "    node = self.head\r\n",
        "    previous = None\r\n",
        "\r\n",
        "    while True:\r\n",
        "      if node.cliente.no_habitacion == no_habitacion:\r\n",
        "        if previous is not None:\r\n",
        "          previous.next = node.next\r\n",
        "        else:\r\n",
        "          while node.next != self.head:\r\n",
        "            node = node.next\r\n",
        "          node.next = self.head.next\r\n",
        "          self.head = self.head.next\r\n",
        "        self.size -=1\r\n",
        "        return True\r\n",
        "      elif node.next == self.head:\r\n",
        "        return False\r\n",
        "\r\n",
        "      previous = node\r\n",
        "      node = node.next       \r\n",
        "\r\n",
        "\r\n",
        "      "
      ],
      "execution_count": null,
      "outputs": []
    },
    {
      "cell_type": "code",
      "metadata": {
        "id": "wxZ0XXUfRsjH"
      },
      "source": [
        "lista_c = linked_list_circular()\r\n",
        "lista_c.insertar(c1)\r\n",
        "lista_c.insertar(c2)\r\n",
        "lista_c.insertar(c3)\r\n",
        "lista_c.insertar(c4)"
      ],
      "execution_count": null,
      "outputs": []
    },
    {
      "cell_type": "code",
      "metadata": {
        "colab": {
          "base_uri": "https://localhost:8080/"
        },
        "id": "xJ-mASDzVVHS",
        "outputId": "c9f2046b-1306-47b9-ace1-ceb0f3b81c55"
      },
      "source": [
        "lista_c.imprimir()"
      ],
      "execution_count": null,
      "outputs": [
        {
          "output_type": "stream",
          "text": [
            "Nombre 1 => Nombre 4 => Nombre 3 => Nombre 2 => "
          ],
          "name": "stdout"
        }
      ]
    },
    {
      "cell_type": "code",
      "metadata": {
        "colab": {
          "base_uri": "https://localhost:8080/"
        },
        "id": "7dNPLBokemvI",
        "outputId": "3db00f19-6ff6-444a-d1c1-c6ee2b0b6677"
      },
      "source": [
        "lista_c.eliminar(100)"
      ],
      "execution_count": null,
      "outputs": [
        {
          "output_type": "execute_result",
          "data": {
            "text/plain": [
              "True"
            ]
          },
          "metadata": {
            "tags": []
          },
          "execution_count": 48
        }
      ]
    },
    {
      "cell_type": "code",
      "metadata": {
        "colab": {
          "base_uri": "https://localhost:8080/"
        },
        "id": "Gf4V4RnOe4DZ",
        "outputId": "65fb28e1-03c3-4dc1-8fd0-eea81f17d430"
      },
      "source": [
        "lista_c.imprimir()"
      ],
      "execution_count": null,
      "outputs": [
        {
          "output_type": "stream",
          "text": [
            "Nombre 4 => Nombre 3 => Nombre 2 => "
          ],
          "name": "stdout"
        }
      ]
    },
    {
      "cell_type": "markdown",
      "metadata": {
        "id": "GOmaabFFiqzH"
      },
      "source": [
        "**Listas Doblemente Enlazadas**"
      ]
    },
    {
      "cell_type": "code",
      "metadata": {
        "id": "-o7q6kAaiwqe"
      },
      "source": [
        "class node_de:\r\n",
        "  def __init__(self,cliente = None, next = None, previous = None):\r\n",
        "    self.cliente = cliente\r\n",
        "    self.next = next\r\n",
        "    self.previous = previous"
      ],
      "execution_count": null,
      "outputs": []
    }
  ]
}